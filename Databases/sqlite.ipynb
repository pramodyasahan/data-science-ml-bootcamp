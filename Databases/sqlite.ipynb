{
 "cells": [
  {
   "metadata": {
    "ExecuteTime": {
     "end_time": "2025-01-14T12:43:54.071418Z",
     "start_time": "2025-01-14T12:43:53.935245Z"
    }
   },
   "cell_type": "code",
   "source": "import sqlite3",
   "id": "7b1ef87b25f7c6e8",
   "outputs": [],
   "execution_count": 6
  },
  {
   "metadata": {
    "ExecuteTime": {
     "end_time": "2025-01-14T12:43:54.204587Z",
     "start_time": "2025-01-14T12:43:54.180803Z"
    }
   },
   "cell_type": "code",
   "source": "connection = sqlite3.connect('test.db')",
   "id": "3f4c6c1d6afae164",
   "outputs": [],
   "execution_count": 7
  },
  {
   "metadata": {
    "ExecuteTime": {
     "end_time": "2025-01-14T12:43:54.557478Z",
     "start_time": "2025-01-14T12:43:54.534326Z"
    }
   },
   "cell_type": "code",
   "source": "connection",
   "id": "c663a73e1c605e34",
   "outputs": [
    {
     "data": {
      "text/plain": [
       "<sqlite3.Connection at 0x103cd1030>"
      ]
     },
     "execution_count": 8,
     "metadata": {},
     "output_type": "execute_result"
    }
   ],
   "execution_count": 8
  },
  {
   "metadata": {
    "ExecuteTime": {
     "end_time": "2025-01-14T12:44:39.049344Z",
     "start_time": "2025-01-14T12:44:39.014463Z"
    }
   },
   "cell_type": "code",
   "source": "cursor = connection.cursor()",
   "id": "d033ccabc1cfdf3c",
   "outputs": [],
   "execution_count": 9
  },
  {
   "metadata": {
    "ExecuteTime": {
     "end_time": "2025-01-14T12:49:49.309016Z",
     "start_time": "2025-01-14T12:49:49.300468Z"
    }
   },
   "cell_type": "code",
   "source": [
    "# Create a Table\n",
    "cursor.execute('''\n",
    "CREATE TABLE IF NOT EXISTS employees(\n",
    "    id INTEGER PRIMARY KEY AUTOINCREMENT,\n",
    "    name TEXT NOT NULL,\n",
    "    age INTEGER NOT NULL,\n",
    "    department TEXT NOT NULL\n",
    ")\n",
    "''')\n",
    "\n",
    "connection.commit()"
   ],
   "id": "5d0dd9e62718e991",
   "outputs": [],
   "execution_count": 15
  },
  {
   "metadata": {
    "ExecuteTime": {
     "end_time": "2025-01-14T12:49:50.585705Z",
     "start_time": "2025-01-14T12:49:50.581336Z"
    }
   },
   "cell_type": "code",
   "source": [
    "cursor.execute('''\n",
    "SELECT * FROM employees\n",
    "''')"
   ],
   "id": "ae1cc4c6fdfeab4b",
   "outputs": [
    {
     "data": {
      "text/plain": [
       "<sqlite3.Cursor at 0x103c9d1c0>"
      ]
     },
     "execution_count": 16,
     "metadata": {},
     "output_type": "execute_result"
    }
   ],
   "execution_count": 16
  },
  {
   "metadata": {
    "ExecuteTime": {
     "end_time": "2025-01-14T12:53:59.420885Z",
     "start_time": "2025-01-14T12:53:59.406321Z"
    }
   },
   "cell_type": "code",
   "source": [
    "# Insert the data\n",
    "cursor.execute('''\n",
    "INSERT INTO employees(name, age, department)\n",
    "    VALUES ('Pramodya', 23, 'ML Engineer')\n",
    "\n",
    "''')\n",
    "\n",
    "cursor.execute('''\n",
    "INSERT INTO employees(name, age, department)\n",
    "    VALUES ('Kavindi', 23, 'Data Scientist')\n",
    "\n",
    "''')\n",
    "\n",
    "connection.commit()"
   ],
   "id": "83fb29c8add455ab",
   "outputs": [],
   "execution_count": 17
  },
  {
   "metadata": {
    "ExecuteTime": {
     "end_time": "2025-01-14T12:55:28.580053Z",
     "start_time": "2025-01-14T12:55:28.570881Z"
    }
   },
   "cell_type": "code",
   "source": [
    "cursor.execute('SELECT * FROM employees')\n",
    "rows = cursor.fetchall()\n",
    "\n",
    "for row in rows:\n",
    "    print(row)"
   ],
   "id": "939cbf0cc03480c9",
   "outputs": [
    {
     "name": "stdout",
     "output_type": "stream",
     "text": [
      "(1, 'Pramodya', 23, 'ML Engineer')\n",
      "(2, 'Kavindi', 23, 'Data Scientist')\n"
     ]
    }
   ],
   "execution_count": 20
  },
  {
   "metadata": {},
   "cell_type": "markdown",
   "source": "#### Update the Data",
   "id": "634dc6ec7b37529a"
  },
  {
   "metadata": {
    "ExecuteTime": {
     "end_time": "2025-01-14T12:56:58.424699Z",
     "start_time": "2025-01-14T12:56:58.394572Z"
    }
   },
   "cell_type": "code",
   "source": [
    "cursor.execute('''\n",
    "UPDATE employees\n",
    "SET age=24\n",
    "WHERE name='Pramodya'\n",
    "''')\n",
    "\n",
    "connection.commit()"
   ],
   "id": "cabfd8ef4390018",
   "outputs": [],
   "execution_count": 21
  },
  {
   "metadata": {
    "ExecuteTime": {
     "end_time": "2025-01-14T12:57:03.368552Z",
     "start_time": "2025-01-14T12:57:03.360505Z"
    }
   },
   "cell_type": "code",
   "source": [
    "cursor.execute('SELECT * FROM employees')\n",
    "rows = cursor.fetchall()\n",
    "\n",
    "for row in rows:\n",
    "    print(row)"
   ],
   "id": "3f88a1ce784aaa46",
   "outputs": [
    {
     "name": "stdout",
     "output_type": "stream",
     "text": [
      "(1, 'Pramodya', 24, 'ML Engineer')\n",
      "(2, 'Kavindi', 23, 'Data Scientist')\n"
     ]
    }
   ],
   "execution_count": 22
  },
  {
   "metadata": {},
   "cell_type": "markdown",
   "source": "#### Delete the Dat",
   "id": "d09bb8dc9d9ce149"
  },
  {
   "metadata": {
    "ExecuteTime": {
     "end_time": "2025-01-14T12:59:16.651140Z",
     "start_time": "2025-01-14T12:59:16.634730Z"
    }
   },
   "cell_type": "code",
   "source": [
    "cursor.execute('''\n",
    "DELETE FROM employees\n",
    "WHERE name='Pramodya'\n",
    "''')"
   ],
   "id": "97f6feabeaf6f48d",
   "outputs": [
    {
     "data": {
      "text/plain": [
       "<sqlite3.Cursor at 0x103c9d1c0>"
      ]
     },
     "execution_count": 23,
     "metadata": {},
     "output_type": "execute_result"
    }
   ],
   "execution_count": 23
  },
  {
   "metadata": {
    "ExecuteTime": {
     "end_time": "2025-01-14T12:59:29.443380Z",
     "start_time": "2025-01-14T12:59:29.435260Z"
    }
   },
   "cell_type": "code",
   "source": [
    "cursor.execute('SELECT * FROM employees')\n",
    "rows = cursor.fetchall()\n",
    "\n",
    "for row in rows:\n",
    "    print(row)"
   ],
   "id": "ecf69554c9d27d39",
   "outputs": [
    {
     "name": "stdout",
     "output_type": "stream",
     "text": [
      "(2, 'Kavindi', 23, 'Data Scientist')\n"
     ]
    }
   ],
   "execution_count": 24
  },
  {
   "metadata": {
    "ExecuteTime": {
     "end_time": "2025-01-14T13:01:40.831350Z",
     "start_time": "2025-01-14T13:01:40.819148Z"
    }
   },
   "cell_type": "code",
   "source": "cursor.close()",
   "id": "4f378d6d1df20307",
   "outputs": [],
   "execution_count": 25
  },
  {
   "metadata": {},
   "cell_type": "code",
   "outputs": [],
   "execution_count": null,
   "source": "",
   "id": "5172899cf887d2ef"
  }
 ],
 "metadata": {
  "kernelspec": {
   "display_name": "Python 3",
   "language": "python",
   "name": "python3"
  },
  "language_info": {
   "codemirror_mode": {
    "name": "ipython",
    "version": 2
   },
   "file_extension": ".py",
   "mimetype": "text/x-python",
   "name": "python",
   "nbconvert_exporter": "python",
   "pygments_lexer": "ipython2",
   "version": "2.7.6"
  }
 },
 "nbformat": 4,
 "nbformat_minor": 5
}
