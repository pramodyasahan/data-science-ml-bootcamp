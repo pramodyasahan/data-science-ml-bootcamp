{
 "cells": [
  {
   "cell_type": "code",
   "id": "initial_id",
   "metadata": {
    "collapsed": true,
    "ExecuteTime": {
     "end_time": "2025-01-14T13:20:10.377651Z",
     "start_time": "2025-01-14T13:20:10.374445Z"
    }
   },
   "source": "import logging",
   "outputs": [],
   "execution_count": 1
  },
  {
   "metadata": {
    "ExecuteTime": {
     "end_time": "2025-01-14T13:20:10.385418Z",
     "start_time": "2025-01-14T13:20:10.383070Z"
    }
   },
   "cell_type": "code",
   "source": [
    "logger1 = logging.getLogger(\"module1\")\n",
    "logger1.setLevel(logging.INFO)\n",
    "\n",
    "logger2 = logging.getLogger(\"module2\")\n",
    "logger2.setLevel(logging.WARNING)"
   ],
   "id": "bbb7789f54303856",
   "outputs": [],
   "execution_count": 2
  },
  {
   "metadata": {
    "ExecuteTime": {
     "end_time": "2025-01-14T13:20:10.475178Z",
     "start_time": "2025-01-14T13:20:10.472428Z"
    }
   },
   "cell_type": "code",
   "source": [
    "logging.basicConfig(\n",
    "    level=logging.INFO,\n",
    "    format='%(asctime)s - %(name)s - %(levelname)s - %(message)s',\n",
    "    datefmt='%d-%m-%y %H:%M:%S',\n",
    "    handlers=[\n",
    "        logging.FileHandler(\"module.log\"),\n",
    "        logging.StreamHandler() \n",
    "    ]\n",
    ")"
   ],
   "id": "dcada9e0c25690b9",
   "outputs": [],
   "execution_count": 3
  },
  {
   "metadata": {
    "ExecuteTime": {
     "end_time": "2025-01-14T13:20:10.501700Z",
     "start_time": "2025-01-14T13:20:10.497830Z"
    }
   },
   "cell_type": "code",
   "source": [
    "logger1.debug(\"This is a debug message for module 1\")\n",
    "logger2.warning(\"This is a warning message for module 2\")"
   ],
   "id": "8d554a74ba7dfc52",
   "outputs": [
    {
     "name": "stderr",
     "output_type": "stream",
     "text": [
      "14-01-25 18:50:10 - module2 - WARNING - This is a warning message for module 2\n"
     ]
    }
   ],
   "execution_count": 4
  },
  {
   "metadata": {
    "ExecuteTime": {
     "end_time": "2025-01-14T13:20:10.580209Z",
     "start_time": "2025-01-14T13:20:10.578479Z"
    }
   },
   "cell_type": "code",
   "source": "",
   "id": "cf58f73a04cb6f09",
   "outputs": [],
   "execution_count": null
  }
 ],
 "metadata": {
  "kernelspec": {
   "display_name": "Python 3",
   "language": "python",
   "name": "python3"
  },
  "language_info": {
   "codemirror_mode": {
    "name": "ipython",
    "version": 2
   },
   "file_extension": ".py",
   "mimetype": "text/x-python",
   "name": "python",
   "nbconvert_exporter": "python",
   "pygments_lexer": "ipython2",
   "version": "2.7.6"
  }
 },
 "nbformat": 4,
 "nbformat_minor": 5
}
