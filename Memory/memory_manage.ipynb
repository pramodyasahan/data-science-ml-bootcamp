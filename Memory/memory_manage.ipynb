{
 "cells": [
  {
   "cell_type": "code",
   "id": "initial_id",
   "metadata": {
    "collapsed": true,
    "ExecuteTime": {
     "end_time": "2025-01-14T14:34:29.036448Z",
     "start_time": "2025-01-14T14:34:29.032550Z"
    }
   },
   "source": "import sys",
   "outputs": [],
   "execution_count": 1
  },
  {
   "metadata": {
    "ExecuteTime": {
     "end_time": "2025-01-14T14:34:45.953711Z",
     "start_time": "2025-01-14T14:34:45.942535Z"
    }
   },
   "cell_type": "code",
   "source": [
    "a = []\n",
    "print(sys.getrefcount(a))"
   ],
   "id": "e804e9d38f0fb373",
   "outputs": [
    {
     "name": "stdout",
     "output_type": "stream",
     "text": [
      "2\n"
     ]
    }
   ],
   "execution_count": 2
  },
  {
   "metadata": {
    "ExecuteTime": {
     "end_time": "2025-01-14T14:35:26.956932Z",
     "start_time": "2025-01-14T14:35:26.950778Z"
    }
   },
   "cell_type": "code",
   "source": [
    "b = a\n",
    "print(sys.getrefcount(a))"
   ],
   "id": "6dc469544e118f93",
   "outputs": [
    {
     "name": "stdout",
     "output_type": "stream",
     "text": [
      "3\n"
     ]
    }
   ],
   "execution_count": 3
  },
  {
   "metadata": {
    "ExecuteTime": {
     "end_time": "2025-01-14T14:37:18.192977Z",
     "start_time": "2025-01-14T14:37:18.185945Z"
    }
   },
   "cell_type": "code",
   "source": [
    "import gc\n",
    "\n",
    "gc.enable()"
   ],
   "id": "55a6d11b107c4cbf",
   "outputs": [],
   "execution_count": 4
  },
  {
   "metadata": {
    "ExecuteTime": {
     "end_time": "2025-01-14T14:37:36.502583Z",
     "start_time": "2025-01-14T14:37:36.444981Z"
    }
   },
   "cell_type": "code",
   "source": "gc.collect()",
   "id": "f6e522ed55aafaf8",
   "outputs": [
    {
     "data": {
      "text/plain": [
       "64"
      ]
     },
     "execution_count": 5,
     "metadata": {},
     "output_type": "execute_result"
    }
   ],
   "execution_count": 5
  },
  {
   "metadata": {
    "ExecuteTime": {
     "end_time": "2025-01-14T14:38:15.848917Z",
     "start_time": "2025-01-14T14:38:15.806189Z"
    }
   },
   "cell_type": "code",
   "source": "print(gc.get_stats())",
   "id": "cea210b639c73868",
   "outputs": [
    {
     "name": "stdout",
     "output_type": "stream",
     "text": [
      "[{'collections': 175, 'collected': 1594, 'uncollectable': 0}, {'collections': 15, 'collected': 151, 'uncollectable': 0}, {'collections': 2, 'collected': 64, 'uncollectable': 0}]\n"
     ]
    }
   ],
   "execution_count": 6
  },
  {
   "metadata": {
    "ExecuteTime": {
     "end_time": "2025-01-14T14:38:43.837007Z",
     "start_time": "2025-01-14T14:38:43.832504Z"
    }
   },
   "cell_type": "code",
   "source": "print(gc.garbage)",
   "id": "6d28d9f82565f79d",
   "outputs": [
    {
     "name": "stdout",
     "output_type": "stream",
     "text": [
      "[]\n"
     ]
    }
   ],
   "execution_count": 7
  },
  {
   "metadata": {
    "ExecuteTime": {
     "end_time": "2025-01-14T14:42:54.735204Z",
     "start_time": "2025-01-14T14:42:54.686394Z"
    }
   },
   "cell_type": "code",
   "source": [
    "class MyObject:\n",
    "    def __init__(self, name):\n",
    "        self.name = name\n",
    "        print(f\"{self.name} initialized\")\n",
    "\n",
    "    def __del__(self):\n",
    "        print(f\"{self.name} destroyed\")\n",
    "\n",
    "\n",
    "obj1 = MyObject(\"obj1\")\n",
    "obj2 = MyObject(\"obj2\")\n",
    "\n",
    "obj1.ref = obj2\n",
    "obj2.ref = obj1\n",
    "\n",
    "del obj1, obj2\n",
    "gc.collect()"
   ],
   "id": "be1954cd7df16143",
   "outputs": [
    {
     "name": "stdout",
     "output_type": "stream",
     "text": [
      "obj1 initialized\n",
      "obj2 initialized\n",
      "obj1 destroyed\n",
      "obj2 destroyed\n"
     ]
    },
    {
     "data": {
      "text/plain": [
       "9"
      ]
     },
     "execution_count": 13,
     "metadata": {},
     "output_type": "execute_result"
    }
   ],
   "execution_count": 13
  },
  {
   "metadata": {
    "ExecuteTime": {
     "end_time": "2025-01-14T14:43:04.328793Z",
     "start_time": "2025-01-14T14:43:04.313579Z"
    }
   },
   "cell_type": "code",
   "source": "gc.garbage",
   "id": "a5269b9942c46890",
   "outputs": [
    {
     "data": {
      "text/plain": [
       "[]"
      ]
     },
     "execution_count": 14,
     "metadata": {},
     "output_type": "execute_result"
    }
   ],
   "execution_count": 14
  },
  {
   "metadata": {
    "ExecuteTime": {
     "end_time": "2025-01-14T14:47:31.068746Z",
     "start_time": "2025-01-14T14:47:31.054277Z"
    }
   },
   "cell_type": "code",
   "source": [
    "import tracemalloc\n",
    "\n",
    "\n",
    "def create_list():\n",
    "    return [i for i in range(1000)]\n",
    "\n",
    "\n",
    "def main():\n",
    "    tracemalloc.start()\n",
    "\n",
    "    create_list()\n",
    "\n",
    "    snapshot = tracemalloc.take_snapshot()\n",
    "    top_stats = snapshot.statistics('lineno')\n",
    "\n",
    "    print(\"[ Top 10 ]\")\n",
    "    for stat in top_stats[:10]:\n",
    "        print(stat)"
   ],
   "id": "a5a259d59860175e",
   "outputs": [],
   "execution_count": 19
  },
  {
   "metadata": {
    "ExecuteTime": {
     "end_time": "2025-01-14T14:47:31.350732Z",
     "start_time": "2025-01-14T14:47:31.343571Z"
    }
   },
   "cell_type": "code",
   "source": "main()",
   "id": "dcd24bd8e0927ef7",
   "outputs": [
    {
     "name": "stdout",
     "output_type": "stream",
     "text": [
      "[ Top 10 ]\n",
      "/Library/Frameworks/Python.framework/Versions/3.12/lib/python3.12/tracemalloc.py:67: size=6720 B, count=105, average=64 B\n",
      "/Users/pramodyasahan/GitHub/data-science-ml-bootcamp/venv/lib/python3.12/site-packages/IPython/core/builtin_trap.py:70: size=6512 B, count=1, average=6512 B\n",
      "/Library/Frameworks/Python.framework/Versions/3.12/lib/python3.12/tracemalloc.py:193: size=5184 B, count=108, average=48 B\n",
      "/Users/pramodyasahan/GitHub/data-science-ml-bootcamp/venv/lib/python3.12/site-packages/traitlets/traitlets.py:731: size=4116 B, count=66, average=62 B\n",
      "/Users/pramodyasahan/GitHub/data-science-ml-bootcamp/venv/lib/python3.12/site-packages/IPython/core/compilerop.py:174: size=3745 B, count=44, average=85 B\n",
      "/Users/pramodyasahan/GitHub/data-science-ml-bootcamp/venv/lib/python3.12/site-packages/zmq/sugar/attrsettr.py:45: size=3243 B, count=69, average=47 B\n",
      "/Users/pramodyasahan/GitHub/data-science-ml-bootcamp/venv/lib/python3.12/site-packages/traitlets/traitlets.py:1543: size=2807 B, count=46, average=61 B\n",
      "/Library/Frameworks/Python.framework/Versions/3.12/lib/python3.12/json/decoder.py:353: size=2546 B, count=31, average=82 B\n",
      "/Library/Frameworks/Python.framework/Versions/3.12/lib/python3.12/codeop.py:126: size=2351 B, count=28, average=84 B\n",
      "/Users/pramodyasahan/GitHub/data-science-ml-bootcamp/venv/lib/python3.12/site-packages/IPython/core/compilerop.py:86: size=1859 B, count=27, average=69 B\n"
     ]
    }
   ],
   "execution_count": 20
  },
  {
   "metadata": {},
   "cell_type": "code",
   "outputs": [],
   "execution_count": null,
   "source": "",
   "id": "a84a44690b602b5b"
  }
 ],
 "metadata": {
  "kernelspec": {
   "display_name": "Python 3",
   "language": "python",
   "name": "python3"
  },
  "language_info": {
   "codemirror_mode": {
    "name": "ipython",
    "version": 2
   },
   "file_extension": ".py",
   "mimetype": "text/x-python",
   "name": "python",
   "nbconvert_exporter": "python",
   "pygments_lexer": "ipython2",
   "version": "2.7.6"
  }
 },
 "nbformat": 4,
 "nbformat_minor": 5
}
